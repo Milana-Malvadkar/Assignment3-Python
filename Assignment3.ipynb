{
 "cells": [
  {
   "cell_type": "code",
   "execution_count": null,
   "id": "8e7eca79",
   "metadata": {},
   "outputs": [],
   "source": [
    "1. Why are functions advantageous to have in your programs?\n",
    "ans: Functions avoid repetition of codes,increases program readability, divide a complex problem into simpler ones,modifying a program becomes easier by using functions."
   ]
  },
  {
   "cell_type": "code",
   "execution_count": null,
   "id": "f103c3b4",
   "metadata": {},
   "outputs": [],
   "source": [
    "2. When does the code in a function run: when it's specified or when it's called?\n",
    "ans: The code in a function runs when the function is called, not when the function is defined."
   ]
  },
  {
   "cell_type": "code",
   "execution_count": null,
   "id": "b73d6cc2",
   "metadata": {},
   "outputs": [],
   "source": [
    "3. What statement creates a function?\n",
    "ans:The def statement creates a function."
   ]
  },
  {
   "cell_type": "code",
   "execution_count": null,
   "id": "d0da9a4a",
   "metadata": {},
   "outputs": [],
   "source": [
    "4. What is the difference between a function and a function call?\n",
    "ans: A function is a piece of code which enhanced the reusability and modularity of program. It means that piece of code need not be written again.\n",
    "A function call means invoking or calling that function. Unless a function is called there is no use of that function.\n"
   ]
  },
  {
   "cell_type": "code",
   "execution_count": null,
   "id": "dc62d240",
   "metadata": {},
   "outputs": [],
   "source": [
    "5. How many global scopes are there in a Python program? How many local scopes?\n",
    "ans: There is one global scope, and a local scope is created whenever a function is called."
   ]
  },
  {
   "cell_type": "code",
   "execution_count": null,
   "id": "ad4970d3",
   "metadata": {},
   "outputs": [],
   "source": [
    "6. What happens to variables in a local scope when the function call returns?\n",
    "ans:When a variable goes out of scope, such as a local variable in a function after the function returns, its memory can be used for other purposes. Taking the address of a local variable and then dereferencing that address after the variable is out of scope invokes undefined behavior."
   ]
  },
  {
   "cell_type": "code",
   "execution_count": null,
   "id": "0ecea2b8",
   "metadata": {},
   "outputs": [],
   "source": [
    "7. What is the concept of a return value? Is it possible to have a return value\n",
    "in an expression?\n",
    "ans: A return value is the value that a function call evaluates to. Like any value, a return value can be used as part of an expression."
   ]
  },
  {
   "cell_type": "code",
   "execution_count": null,
   "id": "a297b7bd",
   "metadata": {},
   "outputs": [],
   "source": [
    "8. If a function does not have a return statement, what is the return value of a call to that function?\n",
    "ans: If there is no return statement for a function, its return value is None."
   ]
  },
  {
   "cell_type": "code",
   "execution_count": null,
   "id": "ea94b51a",
   "metadata": {},
   "outputs": [],
   "source": [
    "9. How do you make a function variable refer to the global variable?\n",
    "ans: when we create a variable inside a function, that variable is local, and can only be used inside that function. To create a global variable inside a function, we have to use the global keyword."
   ]
  },
  {
   "cell_type": "code",
   "execution_count": null,
   "id": "e2c25ad8",
   "metadata": {},
   "outputs": [],
   "source": [
    "10. What is the data type of None?\n",
    "ans: The data type of None is NoneType."
   ]
  },
  {
   "cell_type": "code",
   "execution_count": null,
   "id": "72424519",
   "metadata": {},
   "outputs": [],
   "source": [
    "11. What does the sentence import areallyourpetsnamederic do?\n",
    "ans: The import statement imports a module named areallyourpetsnamederic."
   ]
  },
  {
   "cell_type": "code",
   "execution_count": null,
   "id": "6dc93bc9",
   "metadata": {},
   "outputs": [],
   "source": [
    "12. If you had a bacon() feature in a spam module, what would you call it after importing spam?\n",
    "ans: This function can be called with spam.bacon()"
   ]
  },
  {
   "cell_type": "code",
   "execution_count": null,
   "id": "30b5c97b",
   "metadata": {},
   "outputs": [],
   "source": [
    "13.What can you do to save a programme from crashing if it encounters an error?\n",
    "ans: Place the line of code that cause an error in a try clause."
   ]
  },
  {
   "cell_type": "code",
   "execution_count": null,
   "id": "192796e2",
   "metadata": {},
   "outputs": [],
   "source": [
    "14. What is the purpose of the try clause? What is the purpose of the except clause?\n",
    "ans: In the try clause, all statements are executed until an exception is encountered. except is used to catch and handle the exception(s) that are encountered in the try clause."
   ]
  }
 ],
 "metadata": {
  "kernelspec": {
   "display_name": "Python 3",
   "language": "python",
   "name": "python3"
  },
  "language_info": {
   "codemirror_mode": {
    "name": "ipython",
    "version": 3
   },
   "file_extension": ".py",
   "mimetype": "text/x-python",
   "name": "python",
   "nbconvert_exporter": "python",
   "pygments_lexer": "ipython3",
   "version": "3.8.8"
  }
 },
 "nbformat": 4,
 "nbformat_minor": 5
}
